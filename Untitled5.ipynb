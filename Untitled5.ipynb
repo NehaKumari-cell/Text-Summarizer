{
  "nbformat": 4,
  "nbformat_minor": 0,
  "metadata": {
    "colab": {
      "name": "Untitled5.ipynb",
      "provenance": []
    },
    "kernelspec": {
      "name": "python3",
      "display_name": "Python 3"
    },
    "language_info": {
      "name": "python"
    }
  },
  "cells": [
    {
      "cell_type": "code",
      "source": [
        "!pip install -q streamlit\n",
        "from google.colab import drive\n",
        "drive.mount('/content/drive')"
      ],
      "metadata": {
        "id": "XHRKPamjxK77",
        "colab": {
          "base_uri": "https://localhost:8080/"
        },
        "outputId": "80ea9712-b8aa-4c21-e0ea-f522884654e9"
      },
      "execution_count": 6,
      "outputs": [
        {
          "output_type": "stream",
          "name": "stdout",
          "text": [
            "Drive already mounted at /content/drive; to attempt to forcibly remount, call drive.mount(\"/content/drive\", force_remount=True).\n"
          ]
        }
      ]
    },
    {
      "cell_type": "code",
      "source": [
        "%%writefile app1.py\n",
        "import sys\n",
        "\n",
        "import streamlit as st\n",
        "sys.path.insert(0,'/content/drive/My Drive')\n",
        "import pickle\n",
        "loaded_model = pickle.load(open(\"/model_joblib.pkl\", 'rb'))\n",
        "PAGE_CONFIG = {\"page_title\":\"StColab.io\",\"page_icon\":\":smiley:\",\"layout\":\"centered\"}\n",
        "\n",
        "def main():\n",
        "  \n",
        "  st.title(\"text summarizer\")\t\n",
        "  user_input = st.text_area(\"ENTER THE TEXT\")\n",
        "  \n",
        "  result = loaded_model.predict(user_input)\n",
        "  \n",
        "  st.write(\"MODEL OUTPUT IS\")\n",
        "  st.text_area(label =\"\",value = user_input, height =100)\n",
        "\n",
        "if __name__ == '__main__':\n",
        "  main()"
      ],
      "metadata": {
        "id": "W7aNo7PawooG",
        "colab": {
          "base_uri": "https://localhost:8080/"
        },
        "outputId": "47944e24-5db3-43fb-cf4b-864576942ce7"
      },
      "execution_count": 7,
      "outputs": [
        {
          "output_type": "stream",
          "name": "stdout",
          "text": [
            "Overwriting app1.py\n"
          ]
        }
      ]
    },
    {
      "cell_type": "code",
      "source": [
        "!streamlit run app1.py & npx localtunnel --port 8501"
      ],
      "metadata": {
        "colab": {
          "base_uri": "https://localhost:8080/"
        },
        "id": "euSAgsRfO6S9",
        "outputId": "f61c0e2a-3291-4445-8ea6-bb58054845bc"
      },
      "execution_count": 8,
      "outputs": [
        {
          "output_type": "stream",
          "name": "stdout",
          "text": [
            "2022-05-18 04:17:39.235 INFO    numexpr.utils: NumExpr defaulting to 2 threads.\n",
            "\u001b[K\u001b[?25hnpx: installed 22 in 4.224s\n",
            "\u001b[0m\n",
            "\u001b[34m\u001b[1m  You can now view your Streamlit app in your browser.\u001b[0m\n",
            "\u001b[0m\n",
            "\u001b[34m  Network URL: \u001b[0m\u001b[1mhttp://172.28.0.2:8501\u001b[0m\n",
            "\u001b[34m  External URL: \u001b[0m\u001b[1mhttp://35.194.143.31:8501\u001b[0m\n",
            "\u001b[0m\n",
            "your url is: https://free-lines-visit-35-194-143-31.loca.lt\n",
            "\u001b[34m  Stopping...\u001b[0m\n",
            "^C\n"
          ]
        }
      ]
    }
  ]
}